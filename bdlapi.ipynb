{
 "cells": [
  {
   "cell_type": "code",
   "execution_count": 20,
   "metadata": {},
   "outputs": [],
   "source": [
    "import requests\n",
    "import json\n",
    "import pandas as pd"
   ]
  },
  {
   "cell_type": "code",
   "execution_count": 58,
   "metadata": {},
   "outputs": [
    {
     "data": {
      "text/html": [
       "<div>\n",
       "<style scoped>\n",
       "    .dataframe tbody tr th:only-of-type {\n",
       "        vertical-align: middle;\n",
       "    }\n",
       "\n",
       "    .dataframe tbody tr th {\n",
       "        vertical-align: top;\n",
       "    }\n",
       "\n",
       "    .dataframe thead th {\n",
       "        text-align: right;\n",
       "    }\n",
       "</style>\n",
       "<table border=\"1\" class=\"dataframe\">\n",
       "  <thead>\n",
       "    <tr style=\"text-align: right;\">\n",
       "      <th></th>\n",
       "      <th>children</th>\n",
       "      <th>hasVariables</th>\n",
       "      <th>id</th>\n",
       "      <th>levels</th>\n",
       "      <th>name</th>\n",
       "      <th>parentId</th>\n",
       "    </tr>\n",
       "  </thead>\n",
       "  <tbody>\n",
       "    <tr>\n",
       "      <th>0</th>\n",
       "      <td>[]</td>\n",
       "      <td>False</td>\n",
       "      <td>P2574</td>\n",
       "      <td>[3]</td>\n",
       "      <td>Aktywność ekonomiczna ludności wg BAEL (II kwa...</td>\n",
       "      <td>G570</td>\n",
       "    </tr>\n",
       "    <tr>\n",
       "      <th>1</th>\n",
       "      <td>[]</td>\n",
       "      <td>False</td>\n",
       "      <td>P1386</td>\n",
       "      <td>[3]</td>\n",
       "      <td>Aktywność ekonomiczna ludności wg BAEL (stan w...</td>\n",
       "      <td>G570</td>\n",
       "    </tr>\n",
       "    <tr>\n",
       "      <th>2</th>\n",
       "      <td>[]</td>\n",
       "      <td>False</td>\n",
       "      <td>P1385</td>\n",
       "      <td>[3]</td>\n",
       "      <td>Aktywność ekonomiczna ludności wg BAEL (stan w...</td>\n",
       "      <td>G570</td>\n",
       "    </tr>\n",
       "    <tr>\n",
       "      <th>3</th>\n",
       "      <td>[]</td>\n",
       "      <td>False</td>\n",
       "      <td>P1387</td>\n",
       "      <td>[3]</td>\n",
       "      <td>Aktywność ekonomiczna ludności wg BAEL (stan w...</td>\n",
       "      <td>G570</td>\n",
       "    </tr>\n",
       "    <tr>\n",
       "      <th>4</th>\n",
       "      <td>[]</td>\n",
       "      <td>False</td>\n",
       "      <td>P2798</td>\n",
       "      <td>[7]</td>\n",
       "      <td>Dane z rejestru PESEL - Ludność wg płci</td>\n",
       "      <td>G564</td>\n",
       "    </tr>\n",
       "    <tr>\n",
       "      <th>5</th>\n",
       "      <td>[G7, G8, G10, G534, G535, G557, G564]</td>\n",
       "      <td>False</td>\n",
       "      <td>K3</td>\n",
       "      <td>[3, 4, 5, 6, 7]</td>\n",
       "      <td>LUDNOŚĆ</td>\n",
       "      <td>NaN</td>\n",
       "    </tr>\n",
       "    <tr>\n",
       "      <th>6</th>\n",
       "      <td>[]</td>\n",
       "      <td>False</td>\n",
       "      <td>P2355</td>\n",
       "      <td>[3]</td>\n",
       "      <td>Ludność aktywna zawodowo wg typu aktywności, w...</td>\n",
       "      <td>G380</td>\n",
       "    </tr>\n",
       "    <tr>\n",
       "      <th>7</th>\n",
       "      <td>[]</td>\n",
       "      <td>False</td>\n",
       "      <td>P2884</td>\n",
       "      <td>[7]</td>\n",
       "      <td>Ludność faktycznie zamieszkała wg grup wieku</td>\n",
       "      <td>G450</td>\n",
       "    </tr>\n",
       "    <tr>\n",
       "      <th>8</th>\n",
       "      <td>[]</td>\n",
       "      <td>False</td>\n",
       "      <td>P1702</td>\n",
       "      <td>[6]</td>\n",
       "      <td>Ludność korzystająca z oczyszczalni</td>\n",
       "      <td>G222</td>\n",
       "    </tr>\n",
       "    <tr>\n",
       "      <th>9</th>\n",
       "      <td>[]</td>\n",
       "      <td>False</td>\n",
       "      <td>P2398</td>\n",
       "      <td>[5]</td>\n",
       "      <td>Ludność korzystająca z oczyszczalni ścieków w ...</td>\n",
       "      <td>G222</td>\n",
       "    </tr>\n",
       "  </tbody>\n",
       "</table>\n",
       "</div>"
      ],
      "text/plain": [
       "                                children  hasVariables     id  \\\n",
       "0                                     []         False  P2574   \n",
       "1                                     []         False  P1386   \n",
       "2                                     []         False  P1385   \n",
       "3                                     []         False  P1387   \n",
       "4                                     []         False  P2798   \n",
       "5  [G7, G8, G10, G534, G535, G557, G564]         False     K3   \n",
       "6                                     []         False  P2355   \n",
       "7                                     []         False  P2884   \n",
       "8                                     []         False  P1702   \n",
       "9                                     []         False  P2398   \n",
       "\n",
       "            levels                                               name parentId  \n",
       "0              [3]  Aktywność ekonomiczna ludności wg BAEL (II kwa...     G570  \n",
       "1              [3]  Aktywność ekonomiczna ludności wg BAEL (stan w...     G570  \n",
       "2              [3]  Aktywność ekonomiczna ludności wg BAEL (stan w...     G570  \n",
       "3              [3]  Aktywność ekonomiczna ludności wg BAEL (stan w...     G570  \n",
       "4              [7]            Dane z rejestru PESEL - Ludność wg płci     G564  \n",
       "5  [3, 4, 5, 6, 7]                                            LUDNOŚĆ      NaN  \n",
       "6              [3]  Ludność aktywna zawodowo wg typu aktywności, w...     G380  \n",
       "7              [7]       Ludność faktycznie zamieszkała wg grup wieku     G450  \n",
       "8              [6]                Ludność korzystająca z oczyszczalni     G222  \n",
       "9              [5]  Ludność korzystająca z oczyszczalni ścieków w ...     G222  "
      ]
     },
     "execution_count": 58,
     "metadata": {},
     "output_type": "execute_result"
    }
   ],
   "source": [
    "r = requests.get('https://bdl.stat.gov.pl/api/v1/subjects/search?name=ludność&format=json')\n",
    "dzejson = json.loads(r.text)\n",
    "pd.DataFrame(dzejson['results'])"
   ]
  },
  {
   "cell_type": "code",
   "execution_count": 126,
   "metadata": {},
   "outputs": [],
   "source": [
    "r = requests.get('https://bdl.stat.gov.pl/api/v1/data/by-variable/72305?format=json&unit-level=6&page-size=100&year=2017')\n",
    "dzejson = json.loads(r.text)\n",
    "size = dzejson['totalRecords']\n",
    "pagesize = 100\n",
    "cities = pd.DataFrame()\n",
    "for i in range(int(size/pagesize)):\n",
    "    r = requests.get('https://bdl.stat.gov.pl/api/v1/data/by-variable/72305?format=json&unit-level=6&page-size=100&year=2017'+'&page='+str(i))\n",
    "    dzejson = json.loads(r.text)\n",
    "    cities = cities.append(pd.io.json.json_normalize(data=dzejson['results'],record_path='values',meta=['id','name']))\n",
    "cities = cities.set_index('id')\n",
    "cities = cities.drop('attrId', axis=1)"
   ]
  },
  {
   "cell_type": "code",
   "execution_count": 153,
   "metadata": {},
   "outputs": [
    {
     "data": {
      "text/plain": [
       "<matplotlib.axes._subplots.AxesSubplot at 0x1668d29c160>"
      ]
     },
     "execution_count": 153,
     "metadata": {},
     "output_type": "execute_result"
    },
    {
     "data": {
      "image/png": "[encoded data removed]",
      "text/plain": [
       "<Figure size 432x288 with 1 Axes>"
      ]
     },
     "metadata": {
      "needs_background": "light"
     },
     "output_type": "display_data"
    }
   ],
   "source": [
    "cities['val'].cumsum().plot()"
   ]
  },
  {
   "cell_type": "code",
   "execution_count": null,
   "metadata": {},
   "outputs": [],
   "source": []
  }
 ],
 "metadata": {
  "kernelspec": {
   "display_name": "Python 3",
   "language": "python",
   "name": "python3"
  },
  "language_info": {
   "codemirror_mode": {
    "name": "ipython",
    "version": 3
   },
   "file_extension": ".py",
   "mimetype": "text/x-python",
   "name": "python",
   "nbconvert_exporter": "python",
   "pygments_lexer": "ipython3",
   "version": "3.7.1"
  }
 },
 "nbformat": 4,
 "nbformat_minor": 2
}
