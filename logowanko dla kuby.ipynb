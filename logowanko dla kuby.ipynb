{
 "cells": [
  {
   "cell_type": "markdown",
   "metadata": {},
   "source": [
    "# Tool for BER vs. tempreature and errors corelation "
   ]
  },
  {
   "cell_type": "code",
   "execution_count": 146,
   "metadata": {},
   "outputs": [],
   "source": [
    "import tarfile\n",
    "import os\n",
    "import glob\n",
    "import re\n",
    "import shutil\n",
    "import pandas as pd"
   ]
  },
  {
   "cell_type": "markdown",
   "metadata": {},
   "source": [
    "Choose:\n",
    "- path to folder with logs\n",
    "- name of file with lost frames\n",
    "- name of file with temprature records\n",
    "- pattern of logs with errors"
   ]
  },
  {
   "cell_type": "code",
   "execution_count": 147,
   "metadata": {},
   "outputs": [],
   "source": [
    "path = \"C:/Users/domanski/Desktop/SUD.TS0.TC9_SUD.ASIB_ABIC.ASIB1_ABIC123_ALL_10G.FSIP1.FBIP1.FBIP2.FBIP3.20190323.061613/\"\n",
    "berfile = \"BER_PRBS_64.csv\"\n",
    "tempfile = \"1_TC9_SUD_ASIB1_ABIC123_ALL_10G_temperatures.csv\"\n",
    "filesuffix = \"_TESTS.TS0.TC9_SUD.BBU.SM1.SUB1.\""
   ]
  },
  {
   "cell_type": "code",
   "execution_count": 149,
   "metadata": {},
   "outputs": [
    {
     "name": "stdout",
     "output_type": "stream",
     "text": [
      "     TestCycle Timestamp  Frames Delta\n",
      "0            1  06:23:09          7633\n",
      "44          24  09:09:25           123\n",
      "178         97  18:06:10             3\n",
      "268        149  00:55:53             4\n",
      "454        249  12:51:51         30691\n",
      "466        261  15:46:23           239\n",
      "538        297  19:22:50            42\n",
      "554        305  20:10:52            58\n"
     ]
    }
   ],
   "source": [
    "#filtering rounds with frame loss\n",
    "filename = path + berfile\n",
    "ber_df = pd.read_csv(filename,sep=';')\n",
    "ber_df = ber_df[['TestCycle', 'Timestamp', 'Frames Delta']]\n",
    "ber_df['Timestamp'] = ber_df['Timestamp'].str[:8]\n",
    "ber_df = ber_df[ber_df['Frames Delta']>0]\n",
    "print(ber_df)"
   ]
  },
  {
   "cell_type": "code",
   "execution_count": 150,
   "metadata": {},
   "outputs": [
    {
     "name": "stdout",
     "output_type": "stream",
     "text": [
      "    Timestamp    temp\n",
      "0    06:20:23  59.500\n",
      "1    06:28:33  55.875\n",
      "2    06:34:16  53.375\n",
      "3    07:07:25  41.125\n",
      "4    07:14:34  39.000\n",
      "5    07:21:44  36.500\n",
      "6    07:28:52  34.375\n",
      "7    07:36:00  32.500\n",
      "8    07:41:35  30.000\n",
      "9    07:47:13  28.250\n",
      "10   07:52:53  26.500\n",
      "11   07:58:30  24.625\n",
      "12   08:05:38  23.625\n",
      "13   08:12:58  21.000\n",
      "14   08:19:01  18.125\n",
      "15   08:25:04  16.500\n",
      "16   08:31:07  16.000\n",
      "17   08:37:10  15.750\n",
      "18   08:43:14  15.375\n",
      "19   08:49:17  15.375\n",
      "20   08:55:18  15.375\n",
      "21   09:01:21  15.250\n",
      "22   09:07:23  15.250\n",
      "23   09:13:31  15.375\n",
      "24   09:19:32  15.375\n",
      "25   09:25:35  15.250\n",
      "26   09:31:38  15.250\n",
      "27   09:37:43  15.250\n",
      "28   09:43:49  15.375\n",
      "29   09:49:49  15.375\n",
      "..        ...     ...\n",
      "359  08:50:08  47.250\n",
      "360  08:55:44  44.875\n",
      "361  09:02:54  42.625\n",
      "362  09:08:32  40.500\n",
      "363  09:14:11  38.625\n",
      "364  09:19:50  36.500\n",
      "365  09:25:50  34.625\n",
      "366  09:31:29  32.625\n",
      "367  09:37:09  30.875\n",
      "368  09:42:49  29.250\n",
      "369  09:48:29  27.875\n",
      "370  09:54:27  26.625\n",
      "371  10:00:54  25.375\n",
      "372  10:08:05  23.750\n",
      "373  10:14:06  20.625\n",
      "374  10:20:10  18.375\n",
      "375  10:26:15  17.375\n",
      "376  10:32:18  16.750\n",
      "377  10:38:21  16.625\n",
      "378  10:44:26  16.375\n",
      "379  10:50:31  16.250\n",
      "380  10:56:36  16.125\n",
      "381  11:02:41  16.375\n",
      "382  11:08:48  16.250\n",
      "383  11:14:49  16.125\n",
      "384  11:20:52  16.125\n",
      "385  11:26:55  16.250\n",
      "386  11:32:58  16.125\n",
      "387  11:39:01  16.375\n",
      "388  11:45:03  16.250\n",
      "\n",
      "[389 rows x 2 columns]\n"
     ]
    }
   ],
   "source": [
    "#filtering temperatures\n",
    "filename = path + tempfile\n",
    "temp_df = pd.read_csv(filename,sep=';')\n",
    "temp_df['Timestamp'] = temp_df['time'].str.split(' ', expand=True)[1]\n",
    "temp_df['Timestamp'] = temp_df['Timestamp'].str.split('.', expand=True)[0]\n",
    "temp_df.rename(columns={'FSIP1@board0_env_input':'temp'},inplace=True)\n",
    "temp_df = temp_df[['Timestamp', 'temp']]\n",
    "print(temp_df)"
   ]
  },
  {
   "cell_type": "code",
   "execution_count": 151,
   "metadata": {},
   "outputs": [
    {
     "name": "stderr",
     "output_type": "stream",
     "text": [
      "C:\\anaconda3\\lib\\site-packages\\ipykernel_launcher.py:2: FutureWarning: Sorting because non-concatenation axis is not aligned. A future version\n",
      "of pandas will change to not sort by default.\n",
      "\n",
      "To accept the future behavior, pass 'sort=False'.\n",
      "\n",
      "To retain the current behavior and silence the warning, pass 'sort=True'.\n",
      "\n",
      "  \n"
     ]
    }
   ],
   "source": [
    "#corelate ber with tempretures\n",
    "bertemp_df = pd.concat([ber_df,temp_df]).reset_index()\n",
    "sort = True\n",
    "bertemp_df['Timestamp'] = pd.to_datetime(bertemp_df['Timestamp'], format=\"%H:%M:%S\")\n",
    "bertemp_df = bertemp_df.sort_values(by=['Timestamp'])\n",
    "shifted = bertemp_df.shift(periods=1)\n",
    "bertemp_df = pd.concat([shifted[\"temp\"],bertemp_df[['Frames Delta', 'TestCycle', 'Timestamp']]],axis=1)\n",
    "bertemp_df = bertemp_df.loc[bertemp_df['Frames Delta'].notnull()]\n",
    "bertemp_df = bertemp_df.sort_values(by=['TestCycle'])"
   ]
  },
  {
   "cell_type": "markdown",
   "metadata": {},
   "source": [
    "Table with tempreatures and frame loss"
   ]
  },
  {
   "cell_type": "code",
   "execution_count": 152,
   "metadata": {},
   "outputs": [
    {
     "name": "stdout",
     "output_type": "stream",
     "text": [
      "     temp  Frames Delta  TestCycle           Timestamp\n",
      "0  59.500        7633.0        1.0 1900-01-01 06:23:09\n",
      "1  40.500         123.0       24.0 1900-01-01 09:09:25\n",
      "2  15.250           3.0       97.0 1900-01-01 18:06:10\n",
      "3  38.375           4.0      149.0 1900-01-01 00:55:53\n",
      "4  51.875       30691.0      249.0 1900-01-01 12:51:51\n",
      "5  34.875         239.0      261.0 1900-01-01 15:46:23\n",
      "6  33.000          42.0      297.0 1900-01-01 19:22:50\n",
      "7  27.750          58.0      305.0 1900-01-01 20:10:52\n"
     ]
    }
   ],
   "source": [
    "print(bertemp_df)"
   ]
  },
  {
   "cell_type": "code",
   "execution_count": 153,
   "metadata": {},
   "outputs": [],
   "source": [
    "errs = []\n",
    "for index,rows in bertemp_df.iterrows():\n",
    "    for file in glob.glob(path+str(int(rows[\"TestCycle\"]))+filesuffix+'*.info'):\n",
    "        err = []\n",
    "        with open(file) as f: lineList = f.readlines()\n",
    "        for line in lineList:\n",
    "            if \"ERROR\" in line:\n",
    "                line = line.split('ERROR')[1]\n",
    "                err.append(line)\n",
    "        errs.append(set(err))\n",
    "common_errs = set.intersection(*errs)"
   ]
  },
  {
   "cell_type": "markdown",
   "metadata": {},
   "source": [
    "Printing errors common for each round"
   ]
  },
  {
   "cell_type": "code",
   "execution_count": 154,
   "metadata": {},
   "outputs": [
    {
     "data": {
      "text/plain": [
       "[\"             /tmp/get_marvell_logs.sh: line 17: $'\\\\r': command not found\\n\",\n",
       " '   SSH  <--  RTNETLINK answers: File exists\\n',\n",
       " '             Connection closed by foreign host.\\n',\n",
       " \"             /tmp/get_marvell_logs.sh: line 11: $'\\\\r': command not found\\n\",\n",
       " \"   SSH  <--  mv: cannot stat 'marvell_logs_after.txt*': No such file or directory\\n\",\n",
       " \"   SSH  <--  /tmp/get_marvell_logs.sh: line 5: $'\\\\r': command not found\\n\",\n",
       " \"             /tmp/get_marvell_logs.sh: line 13: $'\\\\r': command not found\\n\",\n",
       " \"             /tmp/get_marvell_logs.sh: line 9: $'\\\\r': command not found\\n\",\n",
       " \"             /tmp/get_marvell_logs.sh: line 8: $'\\\\r': command not found\\n\",\n",
       " \"             /tmp/get_marvell_logs.sh: line 12: $'\\\\r': command not found\\n\",\n",
       " \"             /tmp/get_marvell_logs.sh: line 16: $'\\\\r': command not found\\n\",\n",
       " \"             /tmp/get_marvell_logs.sh: line 18: $'\\\\r': command not found\\n\",\n",
       " \"             /tmp/get_marvell_logs.sh: line 10: $'\\\\r': command not found\\n\",\n",
       " \"             /tmp/get_marvell_logs.sh: line 14: $'\\\\r': command not found\\n\",\n",
       " \"             /tmp/get_marvell_logs.sh: line 15: $'\\\\r': command not found\\n\",\n",
       " '             ',\n",
       " \"             /tmp/get_marvell_logs.sh: line 7: $'\\\\r': command not found\\n\"]"
      ]
     },
     "execution_count": 154,
     "metadata": {},
     "output_type": "execute_result"
    }
   ],
   "source": [
    "list(common_errs)"
   ]
  },
  {
   "cell_type": "code",
   "execution_count": null,
   "metadata": {},
   "outputs": [],
   "source": []
  }
 ],
 "metadata": {
  "kernelspec": {
   "display_name": "Python 3",
   "language": "python",
   "name": "python3"
  },
  "language_info": {
   "codemirror_mode": {
    "name": "ipython",
    "version": 3
   },
   "file_extension": ".py",
   "mimetype": "text/x-python",
   "name": "python",
   "nbconvert_exporter": "python",
   "pygments_lexer": "ipython3",
   "version": "3.7.1"
  }
 },
 "nbformat": 4,
 "nbformat_minor": 2
}
