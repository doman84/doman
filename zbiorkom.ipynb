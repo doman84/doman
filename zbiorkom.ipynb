{
 "cells": [
  {
   "cell_type": "code",
   "execution_count": 34,
   "metadata": {},
   "outputs": [],
   "source": [
    "import numpy as np\n",
    "import matplotlib.pyplot as plt\n",
    "import math"
   ]
  },
  {
   "cell_type": "code",
   "execution_count": 4,
   "metadata": {},
   "outputs": [
    {
     "data": {
      "text/plain": [
       "52"
      ]
     },
     "execution_count": 4,
     "metadata": {},
     "output_type": "execute_result"
    }
   ],
   "source": [
    "r = np.array([[4,4,4,4],[4,1,1,4],[4,1,1,4],[4,4,4,4]]) #residence\n",
    "w = np.array([[1,1,1,1],[1,10,10,1],[1,10,10,1],[1,1,1,1]]) #work\n",
    "sum(sum(r))"
   ]
  },
  {
   "cell_type": "code",
   "execution_count": 66,
   "metadata": {},
   "outputs": [],
   "source": [
    "nam = w - r #needs morning\n",
    "npm = r - w #need afternoon"
   ]
  },
  {
   "cell_type": "code",
   "execution_count": 22,
   "metadata": {},
   "outputs": [
    {
     "name": "stdout",
     "output_type": "stream",
     "text": [
      "[[-3 -3 -3 -3]\n",
      " [-3  9  9 -3]\n",
      " [-3  9  9 -3]\n",
      " [-3 -3 -3 -3]] [array([[  0.,  12.,  12.,   0.],\n",
      "       [  0.,   6.,   6.,   0.],\n",
      "       [  0.,  -6.,  -6.,   0.],\n",
      "       [  0., -12., -12.,   0.]]), array([[  0.,   0.,   0.,   0.],\n",
      "       [ 12.,   6.,  -6., -12.],\n",
      "       [ 12.,   6.,  -6., -12.],\n",
      "       [  0.,   0.,   0.,   0.]])]\n"
     ]
    }
   ],
   "source": [
    "print(nam,np.gradient(nam))"
   ]
  },
  {
   "cell_type": "code",
   "execution_count": 61,
   "metadata": {},
   "outputs": [],
   "source": [
    "r = np.array([[12,1,1,1],[4,1,1,4],[4,1,1,4],[1,1,1,12]]) #residence\n",
    "w = np.array([[1,1,1,1],[1,10,10,1],[1,10,10,1],[1,1,1,1]]) #work"
   ]
  },
  {
   "cell_type": "code",
   "execution_count": 62,
   "metadata": {},
   "outputs": [],
   "source": [
    "nam = w - r #needs morning\n",
    "npm = r - w #need afternoon"
   ]
  },
  {
   "cell_type": "code",
   "execution_count": 64,
   "metadata": {},
   "outputs": [
    {
     "name": "stdout",
     "output_type": "stream",
     "text": [
      "[[11  0  0  0]\n",
      " [ 3 -9 -9  3]\n",
      " [ 3 -9 -9  3]\n",
      " [ 0  0  0 11]] [array([[-8. , -9. , -9. ,  3. ],\n",
      "       [-4. , -4.5, -4.5,  1.5],\n",
      "       [-1.5,  4.5,  4.5,  4. ],\n",
      "       [-3. ,  9. ,  9. ,  8. ]]), array([[-11. ,  -5.5,   0. ,   0. ],\n",
      "       [-12. ,  -6. ,   6. ,  12. ],\n",
      "       [-12. ,  -6. ,   6. ,  12. ],\n",
      "       [  0. ,   0. ,   5.5,  11. ]])]\n"
     ]
    }
   ],
   "source": [
    "print(npm,np.gradient(npm))"
   ]
  },
  {
   "cell_type": "code",
   "execution_count": 69,
   "metadata": {},
   "outputs": [
    {
     "data": {
      "text/plain": [
       "[<matplotlib.lines.Line2D at 0x1a3ca477978>,\n",
       " <matplotlib.lines.Line2D at 0x1a3ca477ac8>,\n",
       " <matplotlib.lines.Line2D at 0x1a3ca477c18>,\n",
       " <matplotlib.lines.Line2D at 0x1a3ca477d68>]"
      ]
     },
     "execution_count": 69,
     "metadata": {},
     "output_type": "execute_result"
    },
    {
     "data": {
      "image/png": "[encoded data removed]",
      "text/plain": [
       "<Figure size 432x288 with 1 Axes>"
      ]
     },
     "metadata": {
      "needs_background": "light"
     },
     "output_type": "display_data"
    }
   ],
   "source": [
    "plt.plot(np.gradient(npm)[1].T)"
   ]
  },
  {
   "cell_type": "code",
   "execution_count": 49,
   "metadata": {},
   "outputs": [
    {
     "data": {
      "text/plain": [
       "array([[-11,   0,   0,   0],\n",
       "       [ -3,   9,   9,  -3],\n",
       "       [ -3,   9,   9,  -3],\n",
       "       [  0,   0,   0, -11]])"
      ]
     },
     "execution_count": 49,
     "metadata": {},
     "output_type": "execute_result"
    }
   ],
   "source": [
    "nam"
   ]
  },
  {
   "cell_type": "code",
   "execution_count": 78,
   "metadata": {},
   "outputs": [
    {
     "name": "stdout",
     "output_type": "stream",
     "text": [
      "[[5 4 2 5]\n",
      " [2 3 6 4]\n",
      " [1 3 4 5]\n",
      " [3 1 1 3]]\n"
     ]
    },
    {
     "data": {
      "text/plain": [
       "[<matplotlib.lines.Line2D at 0x206ec452d30>,\n",
       " <matplotlib.lines.Line2D at 0x206ec452e80>,\n",
       " <matplotlib.lines.Line2D at 0x206ec452fd0>,\n",
       " <matplotlib.lines.Line2D at 0x206ec45f160>]"
      ]
     },
     "execution_count": 78,
     "metadata": {},
     "output_type": "execute_result"
    },
    {
     "data": {
      "image/png": "[encoded data removed]",
      "text/plain": [
       "<Figure size 432x288 with 1 Axes>"
      ]
     },
     "metadata": {
      "needs_background": "light"
     },
     "output_type": "display_data"
    }
   ],
   "source": [
    "habitants = 52\n",
    "area = 16\n",
    "areal = int(math.sqrt(area))\n",
    "r = np.random.multinomial(habitants, np.ones(area)/area)\n",
    "r = r.reshape((areal,-1))\n",
    "w = np.random.multinomial(habitants, np.ones(area)/area)\n",
    "w = w.reshape((areal,-1))\n",
    "nam = w-r\n",
    "npm = r-w\n",
    "print(w)\n",
    "plt.imshow(w)\n",
    "plt.imshow(npm)\n",
    "plt.plot(npm)"
   ]
  },
  {
   "cell_type": "code",
   "execution_count": null,
   "metadata": {
    "collapsed": true
   },
   "outputs": [],
   "source": []
  },
  {
   "cell_type": "code",
   "execution_count": 75,
   "metadata": {},
   "outputs": [
    {
     "name": "stdout",
     "output_type": "stream",
     "text": [
      "[[3 2 4 4]\n",
      " [4 5 3 3]\n",
      " [3 3 4 1]\n",
      " [4 2 4 3]]\n"
     ]
    }
   ],
   "source": [
    "print(w)"
   ]
  },
  {
   "cell_type": "code",
   "execution_count": null,
   "metadata": {},
   "outputs": [],
   "source": []
  }
 ],
 "metadata": {
  "kernelspec": {
   "display_name": "Python 3",
   "language": "python",
   "name": "python3"
  },
  "language_info": {
   "codemirror_mode": {
    "name": "ipython",
    "version": 3
   },
   "file_extension": ".py",
   "mimetype": "text/x-python",
   "name": "python",
   "nbconvert_exporter": "python",
   "pygments_lexer": "ipython3",
   "version": "3.7.1"
  }
 },
 "nbformat": 4,
 "nbformat_minor": 2
}
